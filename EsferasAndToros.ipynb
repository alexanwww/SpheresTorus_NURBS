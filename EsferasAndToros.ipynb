{
 "cells": [
  {
   "cell_type": "code",
   "execution_count": 1,
   "id": "9e5fb115-79f9-4987-baf1-c75e4a3bf59f",
   "metadata": {},
   "outputs": [],
   "source": [
    "import numpy as np\n",
    "import matplotlib.pyplot as plt\n",
    "import plotly.graph_objects as go"
   ]
  },
  {
   "cell_type": "markdown",
   "id": "4e3e1dc8-5efb-4167-be69-af941cc073a0",
   "metadata": {},
   "source": [
    "# 1. Clases para construir Bases Bspline"
   ]
  },
  {
   "cell_type": "code",
   "execution_count": 2,
   "id": "fb798336-0de9-47e1-b9c7-638740247ffe",
   "metadata": {},
   "outputs": [],
   "source": [
    "class Bases_curves:\n",
    "    def __init__(self, t=None):\n",
    "        self.t = t if t is not None else [0, 1, 2, 3, 4]\n",
    "\n",
    "    def N_0(self, i, u):\n",
    "        if i <= len(self.t) - 2:\n",
    "            return 1 if (self.t[i] <= u < self.t[i + 1]) else 0\n",
    "        return 'El índice ha sobrepasado los límites'\n",
    "\n",
    "    def N_p(self, i, u, p):\n",
    "        n = len(self.t)\n",
    "        if p > n - 2 or i > n - p - 2:\n",
    "            return f'Ingrese valores de i=[0, {n - p - 2}] y p=[0, {n - 2}]'\n",
    "\n",
    "        if p == 0:\n",
    "            return self.N_0(i, u)\n",
    "\n",
    "        denom1 = self.t[i + p] - self.t[i]\n",
    "        denom2 = self.t[i + p + 1] - self.t[i + 1]\n",
    "\n",
    "        term1 = ((u - self.t[i]) / denom1 * self.N_p(i, u, p - 1)) if denom1 != 0 else 0\n",
    "        term2 = ((self.t[i + p + 1] - u) / denom2 * self.N_p(i + 1, u, p - 1)) if denom2 != 0 else 0\n",
    "\n",
    "        return term1 + term2"
   ]
  },
  {
   "cell_type": "markdown",
   "id": "612980f8-6d01-4b0c-8357-e5544e419c6a",
   "metadata": {},
   "source": [
    "Ejemplo de uso.   \n",
    "La variable **t** almacena los nodos, **p** es el grado de la curva y **u** el valor del parámetro."
   ]
  },
  {
   "cell_type": "code",
   "execution_count": 3,
   "id": "20e6bc25-a9d9-43af-af7b-02121e9127b3",
   "metadata": {
    "scrolled": true
   },
   "outputs": [
    {
     "data": {
      "text/plain": [
       "0.0026041666666666665"
      ]
     },
     "execution_count": 3,
     "metadata": {},
     "output_type": "execute_result"
    }
   ],
   "source": [
    "Bases_curves(t=[0,1,2,3,4,5]).N_p(i=0, u=0.5, p=4)"
   ]
  },
  {
   "cell_type": "markdown",
   "id": "be5d9e99-88bf-4086-80dd-6feb0573a411",
   "metadata": {},
   "source": [
    "# 2. Clase para construir puntos de la curva NURBS"
   ]
  },
  {
   "cell_type": "code",
   "execution_count": 4,
   "id": "0faa474e-2522-4844-b889-4a48b186cb2d",
   "metadata": {},
   "outputs": [],
   "source": [
    "class Nurbs_curbs:\n",
    "    def __init__(self):\n",
    "        pass\n",
    "\n",
    "    def curva(self, pts, pes, nod, p, u):\n",
    "        bc = Bases_curves(nod)  \n",
    "        dim = len(pts[0])\n",
    "        suma_den = 0.0\n",
    "        suma_num = [0.0] * dim\n",
    "\n",
    "        for i in range(len(pes)):\n",
    "            Ni = bc.N_p(i, u, p)  \n",
    "            mNi = pes[i] * Ni\n",
    "\n",
    "            suma_den += mNi\n",
    "            for d in range(dim):\n",
    "                suma_num[d] += mNi * pts[i][d]\n",
    "\n",
    "        if suma_den == 0:\n",
    "            return [0.0] * dim\n",
    "        return [coord / suma_den for coord in suma_num]\n",
    "\n",
    "    def curva1(self, pts, pes, nod, p, u):\n",
    "        if isinstance(u, (int, float)):\n",
    "            return self.curva(pts, pes, nod, p, u)\n",
    "        elif isinstance(u, (list, np.ndarray)):\n",
    "            return [self.curva(pts, pes, nod, p, val) for val in u]\n",
    "        else:\n",
    "            raise ValueError(\"La entrada debe ser un número o un array de NumPy.\")"
   ]
  },
  {
   "cell_type": "markdown",
   "id": "a7646140-4c06-48cb-bfbc-3f415b2e6707",
   "metadata": {},
   "source": [
    "Ejemplo de uso.  \n",
    "Primero se define los puntos de control, los pesos para cada punto y el vector de los nodos con su grado de la curva. Mediante el método **curva1** de la clase **Nurbs_curbs** se obtiene los puntos de la curva, donde: **pts** son para los puntos de control, **pes** para los pesos, **nod** para los nodos, **p** para el grado de la curva, y **u** para los valores del parámetro ingresados como lista unidimensional."
   ]
  },
  {
   "cell_type": "code",
   "execution_count": 5,
   "id": "d1c45373-63c5-4886-a702-f5d19528458e",
   "metadata": {},
   "outputs": [],
   "source": [
    "puntos_control = [[1, 0],[1, np.sqrt(3)],[-1/2, np.sqrt(3)/2],[-2, 0],[-1/2, -np.sqrt(3)/2],[1, -np.sqrt(3)],[1, 0]]\n",
    "peso = [1, 1/2, 1, 1/2, 1, 1/2, 1]\n",
    "nodos = [0, 0, 0, 1, 1, 2, 2, 3, 3, 3]"
   ]
  },
  {
   "cell_type": "code",
   "execution_count": 6,
   "id": "5dca4f84-3bed-4796-911f-dcc12a4495d0",
   "metadata": {},
   "outputs": [
    {
     "data": {
      "text/plain": [
       "[[np.float64(1.0), np.float64(0.0)],\n",
       " [np.float64(-0.038461538461538464), np.float64(0.999260081289737)],\n",
       " [np.float64(-1.0), np.float64(0.0)],\n",
       " [np.float64(-0.038461538461538464), np.float64(-0.999260081289737)],\n",
       " [0.0, 0.0]]"
      ]
     },
     "execution_count": 6,
     "metadata": {},
     "output_type": "execute_result"
    }
   ],
   "source": [
    "Nurbs_curbs().curva1(pts=puntos_control, pes=peso, nod=nodos, p=2, u=np.linspace(0, 3, 5))"
   ]
  },
  {
   "cell_type": "markdown",
   "id": "6d1ab2d5-c216-410a-b1ce-76101bdfb2f0",
   "metadata": {},
   "source": [
    "# 3. Clase para definir pesos, nodos y puntos de la circunferencia"
   ]
  },
  {
   "cell_type": "code",
   "execution_count": 7,
   "id": "4b5f066e-3d51-4801-b4e6-b29415864ee4",
   "metadata": {},
   "outputs": [],
   "source": [
    "class Construccion:\n",
    "    def __init__(self, n, r):\n",
    "        self.n, self.r = n, r\n",
    "        \n",
    "    @property\n",
    "    def polygon(self):\n",
    "        θ = 2 * np.pi / self.n\n",
    "        α = np.pi * (self.n - 2) / (2 * self.n)\n",
    "        R = self.r / np.sin(α)\n",
    "        \n",
    "        lista = []\n",
    "        for k in range(self.n):\n",
    "            lista.append([self.r * np.cos(θ * k), self.r * np.sin(θ * k)])\n",
    "            lista.append([R * np.cos(θ * (2 * k + 1) / 2), R * np.sin(θ * (2 * k + 1) / 2)])\n",
    "        lista.append(lista[0])  \n",
    "        return lista\n",
    "\n",
    "    @property\n",
    "    def peso(self):\n",
    "        θ = 2 * np.pi / self.n\n",
    "        lista = []\n",
    "        for _ in range(self.n):\n",
    "            lista.append(1)\n",
    "            lista.append(np.cos(θ / 2))\n",
    "        lista.append(1)  # cierre\n",
    "        return lista\n",
    "\n",
    "    @property\n",
    "    def open1(self):\n",
    "        lista = []\n",
    "        for k in range(self.n + 1):\n",
    "            lista.append(k)\n",
    "            lista.append(k)\n",
    "        lista = [0] + lista + [self.n]\n",
    "        return lista"
   ]
  },
  {
   "cell_type": "markdown",
   "id": "f70085ca-0935-4fe7-9028-380597eaefb0",
   "metadata": {},
   "source": [
    "Ejemplo de uso.  \n",
    "Se inicializa la clase **Construccion** simplemente ingresando el número de lados del polígono y su radio. Luego mediante **polygon** se obtiene los puntos de control de la circunferencia; con **peso** se obtiene los respestivos pesos de cada punto, y con **open1** se obtiene los nodos. "
   ]
  },
  {
   "cell_type": "code",
   "execution_count": 8,
   "id": "66c83424-bebd-4ee5-a6a2-8404cba5f856",
   "metadata": {},
   "outputs": [],
   "source": [
    "objeto = Construccion(n=3, r=1)"
   ]
  },
  {
   "cell_type": "code",
   "execution_count": 9,
   "id": "8275f727-53f6-42bf-8cb3-049b9f95618f",
   "metadata": {},
   "outputs": [
    {
     "data": {
      "text/plain": [
       "[[np.float64(1.0), np.float64(0.0)],\n",
       " [np.float64(1.0000000000000004), np.float64(1.7320508075688776)],\n",
       " [np.float64(-0.4999999999999998), np.float64(0.8660254037844387)],\n",
       " [np.float64(-2.0000000000000004), np.float64(2.449293598294707e-16)],\n",
       " [np.float64(-0.5000000000000004), np.float64(-0.8660254037844385)],\n",
       " [np.float64(0.9999999999999989), np.float64(-1.7320508075688785)],\n",
       " [np.float64(1.0), np.float64(0.0)]]"
      ]
     },
     "execution_count": 9,
     "metadata": {},
     "output_type": "execute_result"
    }
   ],
   "source": [
    "objeto.polygon"
   ]
  },
  {
   "cell_type": "code",
   "execution_count": 10,
   "id": "4cfe151c-1586-44fc-9ac2-99664d90ee72",
   "metadata": {},
   "outputs": [
    {
     "data": {
      "text/plain": [
       "[1,\n",
       " np.float64(0.5000000000000001),\n",
       " 1,\n",
       " np.float64(0.5000000000000001),\n",
       " 1,\n",
       " np.float64(0.5000000000000001),\n",
       " 1]"
      ]
     },
     "execution_count": 10,
     "metadata": {},
     "output_type": "execute_result"
    }
   ],
   "source": [
    "objeto.peso"
   ]
  },
  {
   "cell_type": "code",
   "execution_count": 11,
   "id": "82e37ceb-69bf-4e34-9a66-0b0ddc9cb8bd",
   "metadata": {},
   "outputs": [
    {
     "data": {
      "text/plain": [
       "[0, 0, 0, 1, 1, 2, 2, 3, 3, 3]"
      ]
     },
     "execution_count": 11,
     "metadata": {},
     "output_type": "execute_result"
    }
   ],
   "source": [
    "objeto.open1"
   ]
  },
  {
   "cell_type": "markdown",
   "id": "fd7d3b88-e544-4795-b122-a14c2e943d4f",
   "metadata": {},
   "source": [
    "# 4. Graficar Circunferencias tipo NURBS"
   ]
  },
  {
   "cell_type": "code",
   "execution_count": 12,
   "id": "80c27226-41c7-4474-98d3-30eb4f733911",
   "metadata": {},
   "outputs": [],
   "source": [
    "class Nurbs_circumference:\n",
    "    def __init__(self, n, r, p=2): \n",
    "        self.n, self.r, self.p = n, r, p\n",
    "        self.objeto1 = Nurbs_curbs()\n",
    "        self.objeto2 = Construccion(self.n, self.r)\n",
    "        self.u = np.linspace(min(self.objeto2.open1), max(self.objeto2.open1) - 1e-10, 100)\n",
    "\n",
    "    def grafica(self, puntos=True):\n",
    "        poly = np.array(self.objeto2.polygon, dtype=float)   # (N, 2)\n",
    "        pesos = self.objeto2.peso\n",
    "        nodos = self.objeto2.open1\n",
    "\n",
    "        curvaw = np.array(self.objeto1.curva1(poly, pesos, nodos, self.p, self.u), dtype=float)  # (M, 2)\n",
    "\n",
    "        values_x, values_y = curvaw[:, 0], curvaw[:, 1]\n",
    "        pts_x, pts_y = poly[:, 0], poly[:, 1]\n",
    "\n",
    "        plt.figure(figsize=(8, 6))\n",
    "        plt.plot(values_x, values_y, color='blue')\n",
    "        plt.plot(pts_x, pts_y, color='orange')\n",
    "        plt.axis('equal')\n",
    "        if puntos:\n",
    "            plt.scatter(pts_x, pts_y, color='red')\n",
    "        plt.show()"
   ]
  },
  {
   "cell_type": "markdown",
   "id": "09ec03ec-a69b-42b6-9bf5-63e9d2f61775",
   "metadata": {},
   "source": [
    "Ejemplo de uso"
   ]
  },
  {
   "cell_type": "code",
   "execution_count": 13,
   "id": "0debaef3-8b24-45c3-a86f-b4d06b741a1c",
   "metadata": {},
   "outputs": [
    {
     "data": {
      "image/png": "[encoded data removed]",
      "text/plain": [
       "<Figure size 800x600 with 1 Axes>"
      ]
     },
     "metadata": {},
     "output_type": "display_data"
    }
   ],
   "source": [
    "Nurbs_circumference(n=5, r=1).grafica(puntos=True)"
   ]
  },
  {
   "cell_type": "markdown",
   "id": "3ff26631-3db2-4cdf-baec-7aa950410e0d",
   "metadata": {},
   "source": [
    "# 5. Clase para construir puntos de la superficie NURBS"
   ]
  },
  {
   "cell_type": "code",
   "execution_count": 14,
   "id": "3d0d5613-54b9-4794-9431-e46458b61ed0",
   "metadata": {},
   "outputs": [],
   "source": [
    "class Nurbs_surface:\n",
    "    def __init__(self, pts1, pts2, pes1, pes2, nod1, nod2, p1, p2):\n",
    "        self.pts1, self.pts2 = np.array(pts1, dtype=float), np.array(pts2, dtype=float)\n",
    "        self.pes1, self.pes2 = np.array(pes1, dtype=float), np.array(pes2, dtype=float)\n",
    "        self.nod1, self.nod2 = nod1, nod2\n",
    "        self.p1, self.p2 = p1, p2\n",
    "        self.objeto1, self.objeto2 = Bases_curves(t=self.nod1), Bases_curves(t=self.nod2)\n",
    "\n",
    "    def W_ij(self, i, j):\n",
    "        if i < len(self.pes1) and j < len(self.pes2):\n",
    "            return self.pes1[i] * self.pes2[j]\n",
    "        return None  # Evita strings en cálculos numéricos\n",
    "\n",
    "    def P_ij(self, i, j):\n",
    "        if i < len(self.pts1) and j < len(self.pts2):\n",
    "            return [self.pts2[j][0] * self.pts1[i][0],\n",
    "                    self.pts2[j][0] * self.pts1[i][1],\n",
    "                    self.pts2[j][2]]\n",
    "        return None\n",
    "\n",
    "    def superficie(self, u, v):\n",
    "        dim = self.pts1.shape[1]\n",
    "        suma_den = 0.0\n",
    "        suma_num = [0.0] * dim\n",
    "\n",
    "        for i1 in range(len(self.pes1)):\n",
    "            Ni = self.objeto1.N_p(i1, u, self.p1)\n",
    "            for j1 in range(len(self.pes2)):\n",
    "                Nj = self.objeto2.N_p(j1, v, self.p2)\n",
    "                w_ij = self.W_ij(i1, j1)\n",
    "                if w_ij is None:\n",
    "                    continue\n",
    "                factor = Ni * Nj * w_ij\n",
    "\n",
    "                suma_den += factor\n",
    "                P = self.P_ij(i1, j1)\n",
    "                for k in range(dim):\n",
    "                    suma_num[k] += factor * P[k]\n",
    "\n",
    "        return [coord / suma_den for coord in suma_num]\n",
    "\n",
    "    def procesar(self, u, v):\n",
    "        if isinstance(u, (int, float)) and isinstance(v, (int, float)):\n",
    "            return self.superficie(u, v)\n",
    "\n",
    "        elif isinstance(u, np.ndarray) and isinstance(v, np.ndarray):\n",
    "            if u.shape != v.shape:\n",
    "                return 'Ingrese vectores con mismas dimensiones'\n",
    "\n",
    "            fila, columna = u.shape\n",
    "            dim = len(self.superficie(u[0][0], v[0][0]))\n",
    "            lista_alm = [[] for _ in range(dim)]\n",
    "\n",
    "            for i in range(fila):\n",
    "                for j in range(columna):\n",
    "                    B = self.superficie(u[i, j], v[i, j])\n",
    "                    for k in range(dim):\n",
    "                        lista_alm[k].append(B[k])\n",
    "\n",
    "            return [np.array(psdr).reshape(fila, columna) for psdr in lista_alm]\n",
    "\n",
    "        else:\n",
    "            raise ValueError(\"La entrada debe ser un número o un array de NumPy.\")"
   ]
  },
  {
   "cell_type": "markdown",
   "id": "59edf8e9-9c12-4689-b550-ab53b300864f",
   "metadata": {},
   "source": [
    "# 6. Gráfica de esferas y toros"
   ]
  },
  {
   "cell_type": "code",
   "execution_count": null,
   "id": "bdd15319-d2b0-44a5-a61b-aac48b241765",
   "metadata": {},
   "outputs": [],
   "source": [
    "class Nurbs_superficie3D_graph:\n",
    "    def __init__(self, pts1, pts2, pes1, pes2, nod1, nod2, p1, p2):\n",
    "        self.pts1, self.pts2, self.pes1, self.pes2, self.nod1, self.nod2, self.p1, self.p2 = pts1, pts2, pes1, pes2, nod1, nod2, p1, p2\n",
    "        self.u = np.linspace(min(self.nod1), max(self.nod1)-10**(-10), 40)\n",
    "        self.v = np.linspace(min(self.nod2), max(self.nod2)-10**(-10), 40)\n",
    "        self.U, self.V = np.meshgrid(self.u, self.v)\n",
    "        self.objeto = Nurbs_surface(self.pts1, self.pts2, self.pes1, self.pes2, self.nod1, self.nod2, self.p1, self.p2)\n",
    "        self.objeto1 = Nurbs_curbs()\n",
    "    \n",
    "    def grafica(self, pdir=True, pgen=True, c_pdir= True, c_pgen=True, enmaller=True, pts_ctrl=True, superficie=True):\n",
    "        if superficie is True:    \n",
    "            my_surface = self.objeto.procesar(u=self.U, v=self.V)\n",
    "            X = my_surface[0]\n",
    "            Y = my_surface[1]\n",
    "            Z = my_surface[2]\n",
    "\n",
    "        if enmaller is True:     \n",
    "            Data = []\n",
    "            for i in range(len(self.pts1)):\n",
    "                l_dat = []\n",
    "                for j in range(len(self.pts2)):\n",
    "                    l_dat.append(self.objeto.P_ij(i, j))     \n",
    "                Data.append(l_dat)\n",
    "            Data = np.array(Data)\n",
    "        \n",
    "        def funci(lista):\n",
    "            mi_lista = [[] for k in range(len(lista[0]))]\n",
    "            for i in range(len(mi_lista)):\n",
    "                mi_lista[i].append(np.array([k[i] for k in lista]))\n",
    "            mi_lista = np.concatenate(np.array(mi_lista), axis=0)\n",
    "            return mi_lista\n",
    "            \n",
    "        def funci1(matrix):\n",
    "            columna = matrix.shape[1]\n",
    "            lista_alm1 = [[] for k in range(columna)]\n",
    "            for i in range(len(lista_alm1)):\n",
    "                lista_alm1[i].append(matrix[: ,i])\n",
    "            lista_alm1 = np.concatenate(np.array(lista_alm1), axis=0)\n",
    "            return lista_alm1\n",
    "\n",
    "        def grafica_maller(matrix):\n",
    "            mi_lista1 = funci1(matrix)\n",
    "            mi_lista2 = []\n",
    "            for i in range(len(mi_lista1)):\n",
    "                mi_lista2.append(funci(mi_lista1[i]))\n",
    "            return mi_lista2\n",
    "        \n",
    "        if pts_ctrl is True:    \n",
    "            mi_puntos = funci(np.concatenate(Data, axis=0))\n",
    "        \n",
    "        if pdir is True:    \n",
    "            x_pdir = np.array([k[0] for k in self.pts1])\n",
    "            y_pdir = np.array([k[1] for k in self.pts1])\n",
    "            z_pdir = np.array([k[2] for k in self.pts1])\n",
    "        if pgen is True:  \n",
    "            x_pgen = np.array([k[0] for k in self.pts2])\n",
    "            y_pgen = np.array([k[1] for k in self.pts2])\n",
    "            z_pgen = np.array([k[2] for k in self.pts2])\n",
    "\n",
    "        if c_pdir is True:  \n",
    "            C_c1 = self.objeto1.curva1(pts=self.pts1, pes=self.pes1, nod=self.nod1, p=self.p1, u=self.u)\n",
    "            my_c1 = funci(C_c1)\n",
    "        if c_pgen is True:\n",
    "            C_c2 = self.objeto1.curva1(pts=self.pts2, pes=self.pes2, nod=self.nod2, p=self.p2, u=self.v)\n",
    "            my_c2 = funci(C_c2)\n",
    "\n",
    "        fig = go.Figure()\n",
    "        if pdir is True:\n",
    "            fig.add_trace(go.Scatter3d(x=x_pdir, y=y_pdir, z=z_pdir, mode='lines', line=dict(color='black',width=6), showlegend=False))\n",
    "        if pgen is True:\n",
    "            fig.add_trace(go.Scatter3d(x=x_pgen, y=y_pgen, z=z_pgen, mode='lines', line=dict(color='black',width=6), showlegend=False))\n",
    "        if c_pdir is True:\n",
    "            fig.add_trace(go.Scatter3d(x=my_c1[0], y=my_c1[1], z=my_c1[2], mode='lines', line=dict(color='#FFD700',width=8), showlegend=False))\n",
    "        if c_pgen is True:\n",
    "            fig.add_trace(go.Scatter3d(x=my_c2[0], y=my_c2[1], z=my_c2[2], mode='lines', line=dict(color='#FFD700',width=8), showlegend=False))\n",
    "\n",
    "        \n",
    "        if enmaller is True:\n",
    "            lista_graf = grafica_maller(Data)\n",
    "            lista_graf1 = []\n",
    "            for i in range(Data.shape[0]):\n",
    "                lista_graf1.append(funci(Data[i, :]))\n",
    "            for i in range(len(lista_graf)):\n",
    "                fig.add_trace(go.Scatter3d(x=lista_graf[i][0], y=lista_graf[i][1], z=lista_graf[i][2], mode='lines', line=dict(color='blue'), showlegend=False))\n",
    "            for i in range(len(lista_graf1)):\n",
    "                fig.add_trace(go.Scatter3d(x=lista_graf1[i][0], y=lista_graf1[i][1], z=lista_graf1[i][2], mode='lines', line=dict(color='blue'), showlegend=False))\n",
    "        if pts_ctrl is True:\n",
    "            fig.add_trace(go.Scatter3d(x=mi_puntos[0], y=mi_puntos[1], z=mi_puntos[2], mode='markers', marker=dict(color='red',size=5), showlegend=False))\n",
    "        if superficie is True:\n",
    "            fig.add_trace(go.Surface(z=Z, x=X, y=Y, colorscale=[[0, \"#6eb4ee\"], [1, \"#4682B4\"]], showscale=False, opacity=1))  \n",
    "\n",
    "        fig.update_layout(\n",
    "            scene=dict(\n",
    "                xaxis=dict(showbackground=False, showgrid=False, showline=False, visible=False),\n",
    "                yaxis=dict(showbackground=False, showgrid=False, showline=False, visible=False),\n",
    "                zaxis=dict(showbackground=False, showgrid=False, showline=False, visible=False),\n",
    "                aspectmode='data',\n",
    "                #aspectratio=dict(x=1, y=1, z=1),\n",
    "            ),\n",
    "            width=800,\n",
    "            height=600\n",
    "        )\n",
    "        return fig"
   ]
  },
  {
   "cell_type": "markdown",
   "id": "9d710a98-0fbc-4f7e-916f-b522bfea39d0",
   "metadata": {},
   "source": [
    "## ESFERA 1 "
   ]
  },
  {
   "cell_type": "code",
   "execution_count": null,
   "id": "65fcc044-f620-4003-b1b1-96bb7feaceaf",
   "metadata": {},
   "outputs": [],
   "source": [
    "# Creamos los objetos\n",
    "objeto1 = Construccion(n=3, r=1)\n",
    "objeto2 = Construccion(n=6, r=1)\n",
    "\n",
    "#Agrega 0 a la última componente (plano XY)\n",
    "Tria = [psdr+[0] for psdr in objeto1.polygon]  \n",
    "\n",
    "#Solo la mitad (semicircunferencia), aplicamos rotación y agregamos 0 a la segunda componente (plano XZ)\n",
    "Exag = objeto2.polygon[:len(Tria)]  \n",
    "β = np.pi / 2\n",
    "rotation_matrix = np.array([[np.cos(β), np.sin(β)], [-np.sin(β), np.cos(β)]])\n",
    "Exag = np.dot(Exag, rotation_matrix)\n",
    "Exag = np.array(Exag, dtype=np.float64)\n",
    "Exag = [[x, 0.0, z] for x, z in Exag]\n",
    "\n",
    "#Pesos\n",
    "w1 = objeto1.peso\n",
    "w2 = objeto2.peso[:len(Tria)]\n",
    "\n",
    "#Nodos\n",
    "x1 = x2 = objeto1.open1"
   ]
  },
  {
   "cell_type": "code",
   "execution_count": null,
   "id": "bc3f0240-826d-4fd2-9c5e-44482b87c0eb",
   "metadata": {},
   "outputs": [],
   "source": [
    "# Inicializamos la clase\n",
    "esfera1 = Nurbs_superficie3D_graph(pts1=Tria, pts2=Exag, pes1=w1, pes2=w2, nod1=x1, nod2=x2, p1=2, p2=2)"
   ]
  },
  {
   "cell_type": "code",
   "execution_count": null,
   "id": "e7e0d90d-8d03-4fd9-83d4-e356f7543618",
   "metadata": {},
   "outputs": [],
   "source": [
    "esfera1.grafica(pdir=False, pgen=False, c_pdir=True, c_pgen=True, enmaller=True, pts_ctrl=True, superficie=True)"
   ]
  },
  {
   "cell_type": "markdown",
   "id": "93d14890-38e4-4b49-83e0-43e479b47511",
   "metadata": {},
   "source": [
    "## ESFERA 2"
   ]
  },
  {
   "cell_type": "code",
   "execution_count": null,
   "id": "87392f5b-6839-40b8-8f02-ad8385c88e94",
   "metadata": {},
   "outputs": [],
   "source": [
    "# Creamos el objetos\n",
    "objeto1 = Construccion(n=6, r=1)\n",
    "\n",
    "#Agrega 0 a la última componente (plano XY)\n",
    "Tria = [psdr+[0] for psdr in objeto1.polygon]  \n",
    "\n",
    "#Solo la mitad (semicircunferencia), aplicamos rotación y agregamos 0 a la segunda componente (plano XZ)\n",
    "Exag = objeto2.polygon[:7]  \n",
    "β = np.pi / 2\n",
    "rotation_matrix = np.array([[np.cos(β), np.sin(β)], [-np.sin(β), np.cos(β)]])\n",
    "Exag = np.dot(Exag, rotation_matrix)\n",
    "Exag = np.array(Exag, dtype=np.float64)\n",
    "Exag = [[x, 0.0, z] for x, z in Exag]\n",
    "\n",
    "#Pesos\n",
    "w1 = objeto1.peso\n",
    "w2 = objeto1.peso[:7]\n",
    "\n",
    "#Nodos\n",
    "x1 = objeto1.open1\n",
    "x2 = [0,0,0,1,1,2,2,3,3,3]"
   ]
  },
  {
   "cell_type": "code",
   "execution_count": null,
   "id": "a6bbaa0a-aa4a-4a3c-ae1e-1b1140e10205",
   "metadata": {},
   "outputs": [],
   "source": [
    "# Inicializamos la clase\n",
    "esfera2 = Nurbs_superficie3D_graph(pts1=Tria, pts2=Exag, pes1=w1, pes2=w2, nod1=x1, nod2=x2, p1=2, p2=2)"
   ]
  },
  {
   "cell_type": "code",
   "execution_count": null,
   "id": "9d2c8ed9-dfa8-4e50-b13b-c08827ef3964",
   "metadata": {},
   "outputs": [],
   "source": [
    "esfera2.grafica(pdir=False, pgen=False, c_pdir=False, c_pgen=False, enmaller=True, pts_ctrl=True, superficie=True)"
   ]
  },
  {
   "cell_type": "markdown",
   "id": "269a5ca3-6503-4edb-87b7-63e9972ce3b6",
   "metadata": {},
   "source": [
    "## TORO 1"
   ]
  },
  {
   "cell_type": "code",
   "execution_count": null,
   "id": "9412a520-6eaa-4ac7-bbfc-0a7c24a5e7d0",
   "metadata": {},
   "outputs": [],
   "source": [
    "# Creamos los objetos\n",
    "objeto1 = Construccion(n=4, r=1)\n",
    "objeto2 = Construccion(n=4, r=1/2)\n",
    "\n",
    "# Agregamos 0 a la tercera componente\n",
    "circunferncia_xy = [psdr+[0] for psdr in objeto1.polygon]\n",
    "\n",
    "# Agregamos 0 a la segunda componente y trasladamos una unidad en el eje x\n",
    "circunferncia_xz = [[x+1,0,z+1/2] for x,z in objeto2.polygon]\n",
    "\n",
    "# Pesos\n",
    "w1 = objeto1.peso\n",
    "w2 = objeto2.peso\n",
    "\n",
    "# Nodos\n",
    "x1 = objeto1.open1\n",
    "x2 = objeto2.open1"
   ]
  },
  {
   "cell_type": "code",
   "execution_count": null,
   "id": "9bcc64bd-93bd-404e-8a46-94dca5744119",
   "metadata": {},
   "outputs": [],
   "source": [
    "# Inicializamos la clase\n",
    "toro1 = Nurbs_superficie3D_graph(pts1=circunferncia_xy, pts2=circunferncia_xz, pes1=w1, pes2=w2, nod1=x1, nod2=x2, p1=2, p2=2)"
   ]
  },
  {
   "cell_type": "code",
   "execution_count": null,
   "id": "2ca4ce44-58b6-48e8-afb3-ab0e305b43b6",
   "metadata": {},
   "outputs": [],
   "source": [
    "toro1.grafica(pdir=False, pgen=False, c_pdir=True, c_pgen=True, enmaller=True, pts_ctrl=True, superficie=True)"
   ]
  },
  {
   "cell_type": "markdown",
   "id": "d5b91193-28df-49fc-936a-3550c45394df",
   "metadata": {},
   "source": [
    "## TORO 2"
   ]
  },
  {
   "cell_type": "code",
   "execution_count": null,
   "id": "1d3b43a2-c7f3-4539-aeea-b7384f4044ed",
   "metadata": {},
   "outputs": [],
   "source": [
    "# Creamos los objetos\n",
    "objeto1 = Construccion(n=4, r=1)\n",
    "objeto2 = Construccion(n=3, r=1)\n",
    "\n",
    "# Agregamos 0 a la tercera componente\n",
    "circunferncia_xy = [psdr+[0] for psdr in objeto1.polygon]\n",
    "\n",
    "# Agregamos 0 a la segunda componente y trasladamos una unidad en el eje x\n",
    "circunferncia_xz = [[x+3,0,z+1] for x,z in objeto2.polygon]\n",
    "\n",
    "# Pesos\n",
    "w1 = objeto1.peso\n",
    "w2 = objeto2.peso\n",
    "\n",
    "# Nodos\n",
    "x1 = objeto1.open1\n",
    "x2 = objeto2.open1"
   ]
  },
  {
   "cell_type": "code",
   "execution_count": null,
   "id": "e2c20f0f-f5d2-4d09-b40c-7ac03938b1a4",
   "metadata": {},
   "outputs": [],
   "source": [
    "# Inicializamos la clase\n",
    "toro2 = Nurbs_superficie3D_graph(pts1=circunferncia_xy, pts2=circunferncia_xz, pes1=w1, pes2=w2, nod1=x1, nod2=x2, p1=2, p2=2)"
   ]
  },
  {
   "cell_type": "code",
   "execution_count": null,
   "id": "f8b09c93-ea2e-4ad6-9ab0-be87d35d6bc9",
   "metadata": {},
   "outputs": [],
   "source": [
    "toro2.grafica(pdir=False, pgen=False, c_pdir=False, c_pgen=False, enmaller=True, pts_ctrl=True, superficie=True)"
   ]
  },
  {
   "cell_type": "markdown",
   "id": "d4e1cce3-1709-4ed4-9247-bd55a7aa7fda",
   "metadata": {},
   "source": [
    "# COMPARACIÓN CON LA LIBRERÍA PYTHON-NURBS"
   ]
  },
  {
   "cell_type": "code",
   "execution_count": 15,
   "id": "92a76370-db2e-467d-8016-7f6c4440c0b6",
   "metadata": {},
   "outputs": [],
   "source": [
    "from geomdl import NURBS"
   ]
  },
  {
   "cell_type": "markdown",
   "id": "34c768c5-548e-4988-bcbc-0db03ade305e",
   "metadata": {},
   "source": [
    "### 1. Curva NURBS (Circunferencia)  \n",
    "Definimos los puntos de control, pesos y nodos con la clase **Construcción**"
   ]
  },
  {
   "cell_type": "code",
   "execution_count": 16,
   "id": "2be7c0a9-7e5f-40bb-89f4-471793c9aa3e",
   "metadata": {},
   "outputs": [],
   "source": [
    "circunferencia = Construccion(n=3, r=1)\n",
    "puntos =  circunferencia.polygon\n",
    "pesos = circunferencia.peso\n",
    "nodos = circunferencia.open1"
   ]
  },
  {
   "cell_type": "markdown",
   "id": "0c1f892b-558a-4dd4-b947-93534e72e757",
   "metadata": {},
   "source": [
    "Hallamos los 30 puntos que pertenecen a la curva NURBS con **geomdl** y se guarda en **puntos_curva**"
   ]
  },
  {
   "cell_type": "code",
   "execution_count": 17,
   "id": "e3f6f124-6e35-45f3-89f4-ad53e6c4e37b",
   "metadata": {},
   "outputs": [],
   "source": [
    "curve = NURBS.Curve()\n",
    "\n",
    "curve.degree = 2\n",
    "curve.ctrlpts = puntos\n",
    "curve.weights = pesos\n",
    "curve.knotvector = nodos\n",
    "curve.delta = 1/30\n",
    "\n",
    "\n",
    "curve.evaluate()\n",
    "puntos_curva = curve.evalpts "
   ]
  },
  {
   "cell_type": "markdown",
   "id": "eaff2acb-3bee-4ff3-a5aa-bc0880d56e4c",
   "metadata": {},
   "source": [
    "Ahora, lo hallamos con la clase implementada."
   ]
  },
  {
   "cell_type": "code",
   "execution_count": 18,
   "id": "b648875c-74f3-4088-9d0d-881a8e220649",
   "metadata": {},
   "outputs": [],
   "source": [
    "puntos_curva1 = Nurbs_curbs().curva1(pts=puntos, pes=pesos, nod=nodos, p=2, u=np.linspace(0, 3- 1e-15, 30))"
   ]
  },
  {
   "cell_type": "markdown",
   "id": "9189f813-5fec-4b42-8010-336d501fc3e1",
   "metadata": {},
   "source": [
    "Ambas listas tienen el mismo número de puntos, ahora hallamos la precisión midiendo la raíz del Error Cuadrático Medio (**RMSE**)."
   ]
  },
  {
   "cell_type": "code",
   "execution_count": 19,
   "id": "bc50446f-12f9-4781-8b93-258050555565",
   "metadata": {},
   "outputs": [],
   "source": [
    "A = np.array(puntos_curva)\n",
    "B = np.array(puntos_curva1)"
   ]
  },
  {
   "cell_type": "code",
   "execution_count": 20,
   "id": "13413c5c-b97b-4077-a04f-71442a51fea5",
   "metadata": {},
   "outputs": [
    {
     "name": "stdout",
     "output_type": "stream",
     "text": [
      "RMSE por punto: 1.238546398877877e-15\n"
     ]
    }
   ],
   "source": [
    "diff = A-B\n",
    "sq_dist_per_point = np.sum(diff**2, axis=1)\n",
    "mse_points = np.sqrt(np.mean(sq_dist_per_point))\n",
    "print(\"RMSE por punto:\", mse_points)"
   ]
  },
  {
   "cell_type": "markdown",
   "id": "3ac67e34-d787-4b67-8eff-b71abeb5035f",
   "metadata": {},
   "source": [
    "### 2. Superficie NURBS (Esfera)  \n",
    "De manera similar, hallamos los puntos que pertenecen a la superficie(Esfera) con la libreria geomdl y la clase implementada. Luego evaluaremos su error **MSE** por punto."
   ]
  },
  {
   "cell_type": "code",
   "execution_count": 21,
   "id": "ed65aeb4-5856-4b25-bbc2-b941307ae131",
   "metadata": {},
   "outputs": [],
   "source": [
    "# Creamos los objetos\n",
    "objeto1 = Construccion(n=3, r=1)\n",
    "objeto2 = Construccion(n=6, r=1)\n",
    "\n",
    "#Agrega 0 a la última componente (plano XY)\n",
    "Tria = [psdr+[0] for psdr in objeto1.polygon]  \n",
    "\n",
    "#Solo la mitad (semicircunferencia), aplicamos rotación y agregamos 0 a la segunda componente (plano XZ)\n",
    "Exag = objeto2.polygon[:len(Tria)]  \n",
    "β = np.pi / 2\n",
    "rotation_matrix = np.array([[np.cos(β), np.sin(β)], [-np.sin(β), np.cos(β)]])\n",
    "Exag = np.dot(Exag, rotation_matrix)\n",
    "Exag = np.array(Exag, dtype=np.float64)\n",
    "Exag = [[x, 0.0, z] for x, z in Exag]\n",
    "\n",
    "#Pesos\n",
    "w1 = objeto1.peso\n",
    "w2 = objeto2.peso[:len(Tria)]\n",
    "\n",
    "#Nodos\n",
    "x1 = x2 = objeto1.open1"
   ]
  },
  {
   "cell_type": "markdown",
   "id": "61c74910-65c9-4acc-abfa-9b7a74a2a66a",
   "metadata": {},
   "source": [
    "Con estas líneas hallamos los puntos de la superficie usando la clase implementada."
   ]
  },
  {
   "cell_type": "code",
   "execution_count": 22,
   "id": "b9e236db-f716-4c1d-aa71-e79ff2e6bf88",
   "metadata": {},
   "outputs": [],
   "source": [
    "u = v = np.linspace(0, 3 - 1e-15, 30)\n",
    "U, V = np.meshgrid(u, v)\n",
    "esfera = Nurbs_surface(pts1=Tria, pts2=Exag, pes1=w1, pes2=w2, nod1=x1, nod2=x2, p1=2, p2=2)\n",
    "puntos = esfera.procesar(u=U, v=V)\n",
    "puntos1 = np.stack((puntos[0], puntos[1], puntos[2]), axis=-1)\n",
    "puntos_esfera1 = puntos1.reshape(-1, 3, order='F')"
   ]
  },
  {
   "cell_type": "markdown",
   "id": "2d3faff5-ce8d-447d-8708-17f71de87a6d",
   "metadata": {},
   "source": [
    "Para usar **geomdl** necesitamos construir la data de puntos de control de forma homogenea que incluya los pesos. Esa es la principal diferencia, la clase implementada permite directamente pasarle los puntos de control de las curvas directriz y generatriz, mientras que geomdl acepta la data o malla de puntos de control de la superficie."
   ]
  },
  {
   "cell_type": "code",
   "execution_count": 23,
   "id": "40de81a8-1557-470d-abe8-b35232a3ff7a",
   "metadata": {},
   "outputs": [],
   "source": [
    "data = []\n",
    "pesos = []\n",
    "m = len(w1)\n",
    "n = len(w2)\n",
    "\n",
    "for i in range(m):\n",
    "    for j in range(n):\n",
    "        data.append(esfera.P_ij(i,j))\n",
    "        pesos.append(esfera.W_ij(i,j))\n",
    "\n",
    "data_hom = [[a[0]*b, a[1]*b, a[2]*b]+[b] for a,b in zip(data,pesos)]"
   ]
  },
  {
   "cell_type": "code",
   "execution_count": 24,
   "id": "dcb4065d-b99d-4469-bf70-20d4c074c228",
   "metadata": {},
   "outputs": [],
   "source": [
    "surf = NURBS.Surface()\n",
    "\n",
    "# Para los grados\n",
    "surf.degree_u = 2\n",
    "surf.degree_v = 2\n",
    "\n",
    "# Puntos homogéneos: [x*w, y*w, z*w, w] donde w son los pesos\n",
    "ctrlptsw = data_hom\n",
    "\n",
    "# Asignar puntos con pesos directamente\n",
    "surf.set_ctrlpts(ctrlptsw, m, n)  \n",
    "\n",
    "# Vectores de nodos\n",
    "surf.knotvector_u = x1\n",
    "surf.knotvector_v = x2\n",
    "\n",
    "# Densidad de puntos\n",
    "surf.delta = 1/30\n",
    "\n",
    "# Evaluación de puntos\n",
    "surf.evaluate()\n",
    "puntos_esfera = surf.evalpts"
   ]
  },
  {
   "cell_type": "markdown",
   "id": "05581026-c1e7-46a4-8d69-6437c399ee7d",
   "metadata": {},
   "source": [
    "Ahora ya tenemos los puntos de la esfera almacenadas en las variables: puntos_esfera y puntos_esfera1, donde la primera se calculo con geomdl y la segunda con la clase implementada. En estas líneas se calcula la raíz del error cuadratico (**RMSE**) por punto entre estas dos listas de puntos."
   ]
  },
  {
   "cell_type": "code",
   "execution_count": 25,
   "id": "52b49b84-1292-47ae-886d-c062c490a7a6",
   "metadata": {},
   "outputs": [
    {
     "name": "stdout",
     "output_type": "stream",
     "text": [
      "RMSE por punto: 1.0835371913353212e-15\n"
     ]
    }
   ],
   "source": [
    "A = np.array(puntos_esfera)\n",
    "B = np.array(puntos_esfera1)\n",
    "\n",
    "diff = A-B\n",
    "sq_dist_per_point = np.sum(diff**2, axis=1)\n",
    "mse_points = np.sqrt(np.mean(sq_dist_per_point))\n",
    "print(\"RMSE por punto:\", mse_points)"
   ]
  },
  {
   "cell_type": "markdown",
   "id": "0e5b5a75-8ebe-4116-bfe7-573bf8aceca0",
   "metadata": {},
   "source": [
    "# MEMORIA Y VELOCIDAD CON GEOMDL"
   ]
  },
  {
   "cell_type": "code",
   "execution_count": 26,
   "id": "cdf05cdb-ec77-4607-8326-6b86d49f6867",
   "metadata": {},
   "outputs": [],
   "source": [
    "import timeit\n",
    "import tracemalloc"
   ]
  },
  {
   "cell_type": "markdown",
   "id": "f7bfe04a-8d56-460c-b3ba-899bf83dc1a2",
   "metadata": {},
   "source": [
    "### 1. Con la libreria geomdl"
   ]
  },
  {
   "cell_type": "code",
   "execution_count": 27,
   "id": "32332639-fecb-4d58-9c72-cc876f7064f6",
   "metadata": {},
   "outputs": [
    {
     "name": "stdout",
     "output_type": "stream",
     "text": [
      "Tiempo total para 100 repeticiones: 0.927499 segundos\n",
      "Tiempo promedio por ejecución: 0.009275 segundos\n",
      "Uso actual de memoria: 11.08 KB\n",
      "Pico de memoria durante ejecución: 329.64 KB\n"
     ]
    }
   ],
   "source": [
    "# Función que ejecuta lo que se quieres medir\n",
    "def construir_y_evaluar():\n",
    "    surf = NURBS.Surface()\n",
    "    surf.degree_u =  surf.degree_v = 2\n",
    "    surf.set_ctrlpts(ctrlptsw, m, n)\n",
    "    surf.knotvector_u = x1\n",
    "    surf.knotvector_v = x2\n",
    "    surf.delta = 1/30\n",
    "    surf.evaluate()\n",
    "    _ = surf.evalpts\n",
    "\n",
    "# --- Tiempo de ejecución ---\n",
    "tiempo_total = timeit.timeit(construir_y_evaluar, number=100)\n",
    "tiempo_promedio = tiempo_total / 100\n",
    "print(f\"Tiempo total para 100 repeticiones: {tiempo_total:.6f} segundos\")\n",
    "print(f\"Tiempo promedio por ejecución: {tiempo_promedio:.6f} segundos\")\n",
    "\n",
    "# --- Uso de memoria ---\n",
    "tracemalloc.start()\n",
    "construir_y_evaluar()\n",
    "mem_actual, mem_pico = tracemalloc.get_traced_memory()\n",
    "tracemalloc.stop()\n",
    "\n",
    "print(f\"Uso actual de memoria: {mem_actual / 1024:.2f} KB\")\n",
    "print(f\"Pico de memoria durante ejecución: {mem_pico / 1024:.2f} KB\")"
   ]
  },
  {
   "cell_type": "markdown",
   "id": "4cad3b5e-768e-4337-a20a-ac6bb8f2e28f",
   "metadata": {},
   "source": [
    "### 2. Con la clase implementada"
   ]
  },
  {
   "cell_type": "code",
   "execution_count": 28,
   "id": "0f4a3783-1e46-4717-930a-8d78f4abcff3",
   "metadata": {},
   "outputs": [
    {
     "name": "stdout",
     "output_type": "stream",
     "text": [
      "Tiempo total para 100 repeticiones: 0.955982 segundos\n",
      "Tiempo promedio por ejecución: 0.009560 segundos\n",
      "Uso actual de memoria: 9.17 KB\n",
      "Pico de memoria durante ejecución: 326.91 KB\n"
     ]
    }
   ],
   "source": [
    "# Función que ejecuta lo que se quieres medir\n",
    "def construir_y_evaluar1():\n",
    "    esfera = Nurbs_surface(pts1=Tria, pts2=Exag, pes1=w1, pes2=w2, nod1=x1, nod2=x2, p1=2, p2=2)\n",
    "    _ = esfera.procesar(u=U, v=V)\n",
    "\n",
    "# --- Tiempo de ejecución ---\n",
    "tiempo_total = timeit.timeit(construir_y_evaluar, number=100)\n",
    "tiempo_promedio = tiempo_total / 100\n",
    "print(f\"Tiempo total para 100 repeticiones: {tiempo_total:.6f} segundos\")\n",
    "print(f\"Tiempo promedio por ejecución: {tiempo_promedio:.6f} segundos\")\n",
    "\n",
    "# --- Uso de memoria ---\n",
    "tracemalloc.start()\n",
    "construir_y_evaluar()\n",
    "mem_actual, mem_pico = tracemalloc.get_traced_memory()\n",
    "tracemalloc.stop()\n",
    "\n",
    "print(f\"Uso actual de memoria: {mem_actual / 1024:.2f} KB\")\n",
    "print(f\"Pico de memoria durante ejecución: {mem_pico / 1024:.2f} KB\")"
   ]
  },
  {
   "cell_type": "markdown",
   "id": "ed99a837-970b-4f3a-919b-f1b6f955ea65",
   "metadata": {},
   "source": [
    "**-** La clase implementada te arroja tres matrices bidimensionales del mismo tamaño que corresponde a las varoables x,y,z. Ideal cuando se quiere graficar superficies ya sea con matplotlib, pyvista entre otras."
   ]
  }
 ],
 "metadata": {
  "kernelspec": {
   "display_name": "nucleo1",
   "language": "python",
   "name": "nucleo1"
  },
  "language_info": {
   "codemirror_mode": {
    "name": "ipython",
    "version": 3
   },
   "file_extension": ".py",
   "mimetype": "text/x-python",
   "name": "python",
   "nbconvert_exporter": "python",
   "pygments_lexer": "ipython3",
   "version": "3.12.10"
  }
 },
 "nbformat": 4,
 "nbformat_minor": 5
}
